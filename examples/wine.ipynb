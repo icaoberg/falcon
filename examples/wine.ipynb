{
 "cells": [
  {
   "cell_type": "markdown",
   "id": "e25eb075-50dd-4004-8dbe-a8d91033462b",
   "metadata": {},
   "source": [
    "# Wine\n",
    "![](http://archive.ics.uci.edu/ml/assets/MLimages/Large109.jpg)\n",
    "\n",
    "**Machine Learning Repository**<br>\n",
    "Center for Machine Learning and Intelligent Systems<br>\n",
    "http://archive.ics.uci.edu/ml/datasets/Wine\n",
    "\n",
    "## Source\n",
    "### Original Owners\n",
    "Forina, M. et al, PARVUS -\n",
    "An Extendible Package for Data Exploration, Classification and Correlation.\n",
    "Institute of Pharmaceutical and Food Analysis and Technologies, Via Brigata Salerno,\n",
    "16147 Genoa, Italy."
   ]
  },
  {
   "cell_type": "code",
   "execution_count": null,
   "id": "95378e9d-4e79-4007-8192-a968a85a56d6",
   "metadata": {},
   "outputs": [],
   "source": [
    "# import libraries\n",
    "import urllib3\n",
    "import shutil\n",
    "from numpy import genfromtxt\n",
    "from os import remove\n",
    "from halcon import search\n",
    "from time import time\n",
    "from sys import exit"
   ]
  },
  {
   "cell_type": "code",
   "execution_count": null,
   "id": "be3953bf-e5af-4046-bc9e-1e8567202ec6",
   "metadata": {},
   "outputs": [],
   "source": [
    "# download dataset from archive\n",
    "url = 'http://archive.ics.uci.edu/ml/machine-learning-databases/wine/wine.data'\n",
    "filename = 'data.csv'\n",
    "\n",
    "http = urllib3.PoolManager()\n",
    "with open(filename, 'wb') as out:\n",
    "    r = http.request('GET', url, preload_content=False)\n",
    "    shutil.copyfileobj(r, out)\n",
    "\n",
    "data = genfromtxt( filename, delimiter=',' )"
   ]
  },
  {
   "cell_type": "code",
   "execution_count": null,
   "id": "08e2ebc1-846a-4176-9ade-057c12dfc37e",
   "metadata": {},
   "outputs": [],
   "source": [
    "print(\"I will use the first three feature vectors as my query wine set\")\n",
    "query_wines = []\n",
    "query_wines.append(['wine0', 1, data[0]])\n",
    "query_wines.append(['wine1', 1, data[1]])\n",
    "query_wines.append(['wine2', 1, data[2]])\n",
    "\n",
    "print(\"\\nAnd I will use the rest of the feature vectors to find the most similar images\")\n",
    "dataset = []\n",
    "counter = 1\n",
    "for datum in data:\n",
    "\tdataset.append([ 'wine' + str(counter), 1, datum ])\n",
    "\tcounter = counter + 1\n",
    "\n",
    "t = time()\n",
    "[iids, scores] = search.query( query_wines, dataset, metric='cityblock', normalization='standard' )\n",
    "t = time() - t\n",
    "print(\"Elapsed time: \" + str(t) + \" seconds\\n\")\n",
    "\n",
    "#icaoberg: i will only display the top ten results\n",
    "iids = iids[0:10]\n",
    "scores = scores[0:10]\n",
    "\n",
    "#icaoberg: just in case people do not have the tabulate package\n",
    "try:\n",
    "\tfrom tabulate import tabulate\n",
    "\trank = 0\n",
    "\ttable = []\n",
    "\n",
    "\tfor index in range(len(iids)):\n",
    "\t\ttable.append([str(rank), str(iids[index]), str(scores[index])])\n",
    "\t\trank = rank + 1\n",
    "\n",
    "\tprint(tabulate(table, headers=[\"Ranking\",\"Identifier\", \"Score\"]))\n",
    "except:\n",
    "\tprint(\"rank\\tiid\\t\\tscore\")\n",
    "\n",
    "\trank = 0\n",
    "\tfor iid, score in zip(iids,scores):\n",
    "\t\tprint(str(rank) + \"\\t\" + str(iid) + \"\\t\\t\" + str(score))\n",
    "\t\trank = rank + 1\n",
    "\n",
    "remove(filename)\n",
    "\n",
    "#icaoberg: this line is neccesary so i can test this example in travis/jenkins\n",
    "if iids[0] == 'wine1':\n",
    " \texit(0)\n",
    "else:\n",
    "\texit(\"\\nTop match was not query image. Something went wrong with this example\")"
   ]
  },
  {
   "cell_type": "code",
   "execution_count": null,
   "id": "ec21922d-3aae-412e-ae83-7ea26d10fb70",
   "metadata": {},
   "outputs": [],
   "source": []
  }
 ],
 "metadata": {
  "kernelspec": {
   "display_name": "Python 3 (ipykernel)",
   "language": "python",
   "name": "python3"
  },
  "language_info": {
   "codemirror_mode": {
    "name": "ipython",
    "version": 3
   },
   "file_extension": ".py",
   "mimetype": "text/x-python",
   "name": "python",
   "nbconvert_exporter": "python",
   "pygments_lexer": "ipython3",
   "version": "3.9.7"
  }
 },
 "nbformat": 4,
 "nbformat_minor": 5
}
