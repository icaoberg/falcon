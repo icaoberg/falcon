{
 "cells": [
  {
   "cell_type": "markdown",
   "id": "e75fd989",
   "metadata": {},
   "source": [
    "# Wine\n",
    "### Using chemical analysis determine the origin of wines\n",
    "![Wine](http://archive.ics.uci.edu/ml/assets/MLimages/Large109.jpg)\n",
    "\n",
    "### Source:\n",
    "\n",
    "Original Owners:\n",
    "\n",
    "Forina, M. et al, PARVUS -\n",
    "An Extendible Package for Data Exploration, Classification and Correlation.\n",
    "Institute of Pharmaceutical and Food Analysis and Technologies, Via Brigata Salerno,\n",
    "16147 Genoa, Italy.\n"
   ]
  },
  {
   "cell_type": "markdown",
   "id": "f1726592",
   "metadata": {},
   "source": [
    "## Data Set Information:\n",
    "\n",
    "|classification context|\n",
    "|-----------------|\n",
    "|  Alcohol        |\n",
    "| Malic acid      |\n",
    "|  Ash            |\n",
    "|Alcalinity of ash|\n",
    "| Magnesium       |\n",
    "|  Total phenols  |\n",
    "|  Flavanoids     |\n",
    "|Nonflavanoid phenols|\n",
    "|Proanthocyanins |\n",
    "|Color intensity  |\n",
    "| Hue             |\n",
    "|OD280/OD315 of diluted wines|\n",
    "|Proline          |\n"
   ]
  },
  {
   "cell_type": "markdown",
   "id": "e9a66478",
   "metadata": {},
   "source": [
    "## Import Libraries"
   ]
  },
  {
   "cell_type": "code",
   "execution_count": null,
   "id": "0428578c",
   "metadata": {},
   "outputs": [],
   "source": [
    "import urllib3\n",
    "import shutil\n",
    "from numpy import genfromtxt\n",
    "from os import remove\n",
    "from halcon import search\n",
    "from time import time\n",
    "from sys import exit"
   ]
  },
  {
   "cell_type": "markdown",
   "id": "44f02e12",
   "metadata": {},
   "source": [
    "This example uses the wine dataset from\n",
    "\n",
    "Machine Learning Repository\n",
    "Center for Machine Learning and Intelligent Systems\n",
    "http://archive.ics.uci.edu/ml/datasets/Wine"
   ]
  },
  {
   "cell_type": "markdown",
   "id": "f690ce48",
   "metadata": {},
   "source": [
    "[Wine Link click here](http://archive.ics.uci.edu/ml/machine-learning-databases/wine/wine.data)"
   ]
  },
  {
   "cell_type": "markdown",
   "id": "5efb6c31",
   "metadata": {},
   "source": [
    "## Using feature vectors as query wine set and use the rest to finid similar images"
   ]
  },
  {
   "cell_type": "code",
   "execution_count": null,
   "id": "f94703bd",
   "metadata": {},
   "outputs": [],
   "source": [
    "\n",
    "url = 'http://archive.ics.uci.edu/ml/machine-learning-databases/wine/wine.data'\n",
    "filename = 'data.csv'\n",
    "\n",
    "http = urllib3.PoolManager()\n",
    "with open(filename, 'wb') as out:\n",
    "    r = http.request('GET', url, preload_content=False)\n",
    "    shutil.copyfileobj(r, out)\n",
    "\n",
    "data = genfromtxt( filename, delimiter=',' )\n",
    "\n",
    "print(\"I will use the first three feature vectors as my query wine set\")\n",
    "query_wines = []\n",
    "query_wines.append(['wine0', 1, data[0]])\n",
    "query_wines.append(['wine1', 1, data[1]])\n",
    "query_wines.append(['wine2', 1, data[2]])\n",
    "\n",
    "print(\"\\nAnd I will use the rest of the feature vectors to find the most similar images\")"
   ]
  },
  {
   "cell_type": "markdown",
   "id": "2e89c1bd",
   "metadata": {},
   "source": [
    "## Displaying top 10 results"
   ]
  },
  {
   "cell_type": "code",
   "execution_count": null,
   "id": "9aa9be4c",
   "metadata": {},
   "outputs": [],
   "source": [
    "dataset = []\n",
    "counter = 1\n",
    "for datum in data:\n",
    "\tdataset.append([ 'wine' + str(counter), 1, datum ])\n",
    "\tcounter = counter + 1\n",
    "\n",
    "t = time()\n",
    "[iids, scores] = search.query( query_wines, dataset, metric='cityblock', normalization='standard' )\n",
    "t = time() - t\n",
    "print(\"Elapsed time: \" + str(t) + \" seconds\\n\")\n",
    "\n",
    "#icaoberg: i will only display the top ten results\n",
    "iids = iids[0:10]\n",
    "scores = scores[0:10]\n",
    "\n",
    "#icaoberg: just in case people do not have the tabulate package\n",
    "try:\n",
    "\tfrom tabulate import tabulate\n",
    "\trank = 0\n",
    "\ttable = []\n",
    "\n",
    "\tfor index in range(len(iids)):\n",
    "\t\ttable.append([str(rank), str(iids[index]), str(scores[index])])\n",
    "\t\trank = rank + 1\n",
    "\n",
    "\tprint(tabulate(table, headers=[\"Ranking\",\"Identifier\", \"Score\"]))\n",
    "except:\n",
    "\tprint(\"rank\\tiid\\t\\tscore\")\n",
    "\n",
    "\trank = 0\n",
    "\tfor iid, score in zip(iids,scores):\n",
    "\t\tprint(str(rank) + \"\\t\" + str(iid) + \"\\t\\t\" + str(score))\n",
    "\t\trank = rank + 1\n",
    "\n",
    "remove(filename)\n",
    "\n",
    "#icaoberg: this line is neccesary so i can test this example in travis/jenkins\n",
    "if iids[0] == 'wine1':\n",
    " \texit(0)\n",
    "else:\n",
    "\texit(\"\\nTop match was not query image. Something went wrong with this example\")"
   ]
  },
  {
   "cell_type": "code",
   "execution_count": null,
   "id": "5f30e255",
   "metadata": {},
   "outputs": [],
   "source": []
  }
 ],
 "metadata": {
  "kernelspec": {
   "display_name": "Python 3",
   "language": "python",
   "name": "python3"
  },
  "language_info": {
   "codemirror_mode": {
    "name": "ipython",
    "version": 3
   },
   "file_extension": ".py",
   "mimetype": "text/x-python",
   "name": "python",
   "nbconvert_exporter": "python",
   "pygments_lexer": "ipython3",
   "version": "3.8.8"
  }
 },
 "nbformat": 4,
 "nbformat_minor": 5
}
